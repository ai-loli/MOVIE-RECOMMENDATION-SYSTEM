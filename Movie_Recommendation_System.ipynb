{
  "nbformat": 4,
  "nbformat_minor": 0,
  "metadata": {
    "colab": {
      "name": "Movie Recommendation System.ipynb",
      "provenance": [],
      "collapsed_sections": [],
      "authorship_tag": "ABX9TyP6qHiUS/vPnHV8d7K/w+a2",
      "include_colab_link": true
    },
    "kernelspec": {
      "name": "python3",
      "display_name": "Python 3"
    },
    "language_info": {
      "name": "python"
    }
  },
  "cells": [
    {
      "cell_type": "markdown",
      "metadata": {
        "id": "view-in-github",
        "colab_type": "text"
      },
      "source": [
        "<a href=\"https://colab.research.google.com/github/ai-loli/MOVIE-RECOMMENDATION-SYSTEM/blob/main/Movie_Recommendation_System.ipynb\" target=\"_parent\"><img src=\"https://colab.research.google.com/assets/colab-badge.svg\" alt=\"Open In Colab\"/></a>"
      ]
    },
    {
      "cell_type": "code",
      "metadata": {
        "id": "Vfbf0fD7Zbbq"
      },
      "source": [
        "import torch\n",
        "import torch.nn as nn\n",
        "import torch.nn.functional as F\n",
        "import numpy as np\n",
        "import pandas as pd\n",
        "import matplotlib.pyplot as plt\n",
        "from datetime import datetime\n",
        "from sklearn.utils import shuffle"
      ],
      "execution_count": null,
      "outputs": []
    },
    {
      "cell_type": "code",
      "metadata": {
        "colab": {
          "base_uri": "https://localhost:8080/"
        },
        "id": "2STMhk7gcbXQ",
        "outputId": "f18d0ae6-e155-4b7f-eb03-c0b95eec6d38"
      },
      "source": [
        "!wget -nc http://files.grouplens.org/datasets/movielens/ml-20m.zip"
      ],
      "execution_count": null,
      "outputs": [
        {
          "output_type": "stream",
          "text": [
            "--2021-06-30 11:02:55--  http://files.grouplens.org/datasets/movielens/ml-20m.zip\n",
            "Resolving files.grouplens.org (files.grouplens.org)... 128.101.65.152\n",
            "Connecting to files.grouplens.org (files.grouplens.org)|128.101.65.152|:80... connected.\n",
            "HTTP request sent, awaiting response... 200 OK\n",
            "Length: 198702078 (189M) [application/zip]\n",
            "Saving to: ‘ml-20m.zip’\n",
            "\n",
            "ml-20m.zip          100%[===================>] 189.50M  50.8MB/s    in 4.1s    \n",
            "\n",
            "2021-06-30 11:02:59 (46.4 MB/s) - ‘ml-20m.zip’ saved [198702078/198702078]\n",
            "\n"
          ],
          "name": "stdout"
        }
      ]
    },
    {
      "cell_type": "code",
      "metadata": {
        "colab": {
          "base_uri": "https://localhost:8080/"
        },
        "id": "3wRQOiebcqpF",
        "outputId": "05397ed1-d83d-42bd-8caa-53ca73b9d38e"
      },
      "source": [
        "!unzip -n ml-20m.zip"
      ],
      "execution_count": null,
      "outputs": [
        {
          "output_type": "stream",
          "text": [
            "Archive:  ml-20m.zip\n",
            "   creating: ml-20m/\n",
            "  inflating: ml-20m/genome-scores.csv  \n",
            "  inflating: ml-20m/genome-tags.csv  \n",
            "  inflating: ml-20m/links.csv        \n",
            "  inflating: ml-20m/movies.csv       \n",
            "  inflating: ml-20m/ratings.csv      \n",
            "  inflating: ml-20m/README.txt       \n",
            "  inflating: ml-20m/tags.csv         \n"
          ],
          "name": "stdout"
        }
      ]
    },
    {
      "cell_type": "code",
      "metadata": {
        "colab": {
          "base_uri": "https://localhost:8080/"
        },
        "id": "mLSXgsTQdHpa",
        "outputId": "d89e0fe2-d484-451c-b487-7f0b1edc3966"
      },
      "source": [
        "!ls"
      ],
      "execution_count": null,
      "outputs": [
        {
          "output_type": "stream",
          "text": [
            "ml-20m\tml-20m.zip  sample_data\n"
          ],
          "name": "stdout"
        }
      ]
    },
    {
      "cell_type": "code",
      "metadata": {
        "colab": {
          "base_uri": "https://localhost:8080/",
          "height": 204
        },
        "id": "Wx_SkXpOdRyM",
        "outputId": "c6ddd0c6-9a88-4be5-ccff-5cf121dc75b0"
      },
      "source": [
        "df = pd.read_csv('ml-20m/ratings.csv')\n",
        "df.head()"
      ],
      "execution_count": null,
      "outputs": [
        {
          "output_type": "execute_result",
          "data": {
            "text/html": [
              "<div>\n",
              "<style scoped>\n",
              "    .dataframe tbody tr th:only-of-type {\n",
              "        vertical-align: middle;\n",
              "    }\n",
              "\n",
              "    .dataframe tbody tr th {\n",
              "        vertical-align: top;\n",
              "    }\n",
              "\n",
              "    .dataframe thead th {\n",
              "        text-align: right;\n",
              "    }\n",
              "</style>\n",
              "<table border=\"1\" class=\"dataframe\">\n",
              "  <thead>\n",
              "    <tr style=\"text-align: right;\">\n",
              "      <th></th>\n",
              "      <th>userId</th>\n",
              "      <th>movieId</th>\n",
              "      <th>rating</th>\n",
              "      <th>timestamp</th>\n",
              "    </tr>\n",
              "  </thead>\n",
              "  <tbody>\n",
              "    <tr>\n",
              "      <th>0</th>\n",
              "      <td>1</td>\n",
              "      <td>2</td>\n",
              "      <td>3.5</td>\n",
              "      <td>1112486027</td>\n",
              "    </tr>\n",
              "    <tr>\n",
              "      <th>1</th>\n",
              "      <td>1</td>\n",
              "      <td>29</td>\n",
              "      <td>3.5</td>\n",
              "      <td>1112484676</td>\n",
              "    </tr>\n",
              "    <tr>\n",
              "      <th>2</th>\n",
              "      <td>1</td>\n",
              "      <td>32</td>\n",
              "      <td>3.5</td>\n",
              "      <td>1112484819</td>\n",
              "    </tr>\n",
              "    <tr>\n",
              "      <th>3</th>\n",
              "      <td>1</td>\n",
              "      <td>47</td>\n",
              "      <td>3.5</td>\n",
              "      <td>1112484727</td>\n",
              "    </tr>\n",
              "    <tr>\n",
              "      <th>4</th>\n",
              "      <td>1</td>\n",
              "      <td>50</td>\n",
              "      <td>3.5</td>\n",
              "      <td>1112484580</td>\n",
              "    </tr>\n",
              "  </tbody>\n",
              "</table>\n",
              "</div>"
            ],
            "text/plain": [
              "   userId  movieId  rating   timestamp\n",
              "0       1        2     3.5  1112486027\n",
              "1       1       29     3.5  1112484676\n",
              "2       1       32     3.5  1112484819\n",
              "3       1       47     3.5  1112484727\n",
              "4       1       50     3.5  1112484580"
            ]
          },
          "metadata": {
            "tags": []
          },
          "execution_count": 5
        }
      ]
    },
    {
      "cell_type": "code",
      "metadata": {
        "id": "NCWa2QXZdbB7"
      },
      "source": [
        "df.userId = pd.Categorical(df.userId)\n",
        "df['new_user_id'] = df.userId.cat.codes"
      ],
      "execution_count": null,
      "outputs": []
    },
    {
      "cell_type": "code",
      "metadata": {
        "id": "juYYTksVeDqS"
      },
      "source": [
        "df.movieId = pd.Categorical(df.movieId)\n",
        "df['new_movie_id'] = df.movieId.cat.codes"
      ],
      "execution_count": null,
      "outputs": []
    },
    {
      "cell_type": "code",
      "metadata": {
        "id": "gGnIiUKdeMbz"
      },
      "source": [
        "# Get user IDs, movie IDs, and ratings as separate arrays\n",
        "user_ids = df['new_user_id'].values\n",
        "movie_ids = df['new_movie_id'].values\n",
        "ratings = df['rating'].values - 2.5"
      ],
      "execution_count": null,
      "outputs": []
    },
    {
      "cell_type": "code",
      "metadata": {
        "id": "F55z1bQOeg1_"
      },
      "source": [
        "# Get number of users and number of movies\n",
        "N = len(set(user_ids))\n",
        "M = len(set(movie_ids))\n",
        "\n",
        "# Set embedding dimension\n",
        "D = 10"
      ],
      "execution_count": null,
      "outputs": []
    },
    {
      "cell_type": "code",
      "metadata": {
        "id": "d028aYDTrJPa"
      },
      "source": [
        "# Make a neural network\n",
        "class Model(nn.Module):\n",
        "  def __init__(self, n_users, n_items, embed_dim, n_hidden=1024):\n",
        "    super(Model, self).__init__()\n",
        "    self.N = n_users\n",
        "    self.M = n_items\n",
        "    self.D = embed_dim\n",
        "\n",
        "    self.u_emb = nn.Embedding(self.N, self.D)\n",
        "    self.m_emb = nn.Embedding(self.M, self.D)\n",
        "    self.fc1 = nn.Linear(2 * self.D, n_hidden)\n",
        "    self.fc2 = nn.Linear(n_hidden, 1)\n",
        "\n",
        "    # set the weights since N(0, 1) leads to poor results\n",
        "    self.u_emb.weight.data = nn.Parameter(\n",
        "        torch.Tensor(np.random.randn(self.N, self.D) * 0.01))\n",
        "    self.m_emb.weight.data = nn.Parameter(\n",
        "        torch.Tensor(np.random.randn(self.M, self.D) * 0.01))\n",
        "  \n",
        "  def forward(self, u, m):\n",
        "    # pass u and m into their respective embeddings\n",
        "    u = self.u_emb(u) # output is (num_samples, D)\n",
        "    m = self.m_emb(m) # output is (num_samples, D)\n",
        "\n",
        "    # merge or concatenate these 2 matrices together along axis = 1\n",
        "    out = torch.cat((u, m), 1) # output is (num_samples, 2D)\n",
        "\n",
        "    # then pass it to the ANN layers\n",
        "    out = self.fc1(out)\n",
        "    out = F.relu(out)\n",
        "    out = self.fc2(out)\n",
        "    return out"
      ],
      "execution_count": null,
      "outputs": []
    },
    {
      "cell_type": "code",
      "metadata": {
        "colab": {
          "base_uri": "https://localhost:8080/"
        },
        "id": "3UDuwBHz9WCY",
        "outputId": "45dc8fbc-a686-4af0-ef8e-a3602883c91c"
      },
      "source": [
        "device = torch.device(\"cuda:0\" if torch.cuda.is_available() else \"cpu\")\n",
        "print (device)"
      ],
      "execution_count": null,
      "outputs": [
        {
          "output_type": "stream",
          "text": [
            "cuda:0\n"
          ],
          "name": "stdout"
        }
      ]
    },
    {
      "cell_type": "code",
      "metadata": {
        "colab": {
          "base_uri": "https://localhost:8080/"
        },
        "id": "pkeIghwjjjr8",
        "outputId": "c6f6cf77-e2aa-4570-e652-1961d4bc5c04"
      },
      "source": [
        "model = Model(N, M, D)\n",
        "model.to(device)"
      ],
      "execution_count": null,
      "outputs": [
        {
          "output_type": "execute_result",
          "data": {
            "text/plain": [
              "Model(\n",
              "  (u_emb): Embedding(138493, 10)\n",
              "  (m_emb): Embedding(26744, 10)\n",
              "  (fc1): Linear(in_features=20, out_features=1024, bias=True)\n",
              "  (fc2): Linear(in_features=1024, out_features=1, bias=True)\n",
              ")"
            ]
          },
          "metadata": {
            "tags": []
          },
          "execution_count": 12
        }
      ]
    },
    {
      "cell_type": "code",
      "metadata": {
        "id": "URAvPbyhjygi"
      },
      "source": [
        "# Loss and optimizer\n",
        "criterion = nn.MSELoss() # loss(x,y) = (x-y)2\n",
        "optimizer = torch.optim.SGD(model.parameters(), lr=0.08, momentum=0.9) # momentum is a simple technique that improves both training speed and accuracy"
      ],
      "execution_count": null,
      "outputs": []
    },
    {
      "cell_type": "code",
      "metadata": {
        "id": "hpZi3deykCqD"
      },
      "source": [
        "#function to train\n",
        "def batch_gd2(model, criterion, optimizer, train_data, test_data, epochs, bs=512):\n",
        "  train_users, train_movies, train_ratings = train_data\n",
        "  test_users, test_movies, test_ratings = test_data\n",
        "\n",
        "  train_losses = np.zeros(epochs)\n",
        "  test_losses = np.zeros(epochs)\n",
        "\n",
        "  # batches per epoch\n",
        "  Ntrain = len(train_users)\n",
        "  batches_per_epoch = int(np.ceil(Ntrain / bs))\n",
        "\n",
        "  for it in range(epochs):\n",
        "    t0 = datetime.now()\n",
        "    train_loss = []\n",
        "\n",
        "    # shuffle each batch\n",
        "    # by shuffling the data, we ensure that each data point creates an \"independent\" change on the model without being biased by the same points before them\n",
        "    train_users, train_movies, train_ratings = shuffle(\n",
        "        train_users, train_movies, train_ratings\n",
        "    )\n",
        "\n",
        "    for j in range(batches_per_epoch):\n",
        "      # get the batch\n",
        "      # The batch size is a hyperparameter that defines the number of samples to work through before updating the internal model parameters.\n",
        "      # Think of a batch as a for-loop iterating over one or more samples and making predictions\n",
        "      # At the end of the batch, the predictions are compared to the expected output variables and an error is calculated\n",
        "      # Stochastic Gradient Descent. Batch Size = 1\n",
        "      users = train_users[j*bs:(j+1)*bs]\n",
        "      movies = train_movies[j*bs:(j+1)*bs]\n",
        "      targets = train_ratings[j*bs:(j+1)*bs]\n",
        "\n",
        "      # conver to tensor\n",
        "      users = torch.from_numpy(users).long()\n",
        "      movies = torch.from_numpy(movies).long()\n",
        "      targets = torch.from_numpy(targets)\n",
        "    \n",
        "      # reshape targets\n",
        "      # Example: x.view(-1,1) this will output tensor shape [anything, 1] depending on the number of elements in x\n",
        "      targets = targets.view(-1, 1).float()\n",
        "\n",
        "      # move data to GPU\n",
        "      users, movies, targets = users.to(device), movies.to(device), targets.to(device)\n",
        "\n",
        "      # zero the parameter gradients\n",
        "      # this is to ensure that we are not tracking any unnecessary information when we train our neural network\n",
        "      # zero out the gradients so that you do the parameter update correctly\n",
        "      optimizer.zero_grad()\n",
        "\n",
        "      # Forward pass\n",
        "      outputs = model(users, movies)\n",
        "      loss = criterion(outputs, targets)  #Given an input and a target, compute the loss function associated to the criterion and return the result\n",
        "        \n",
        "      # Backward and optimize\n",
        "      loss.backward()\n",
        "      optimizer.step()\n",
        "\n",
        "      # at the end when we get the losses we append to our list of losses for this epoch\n",
        "      train_loss.append(loss.item())\n",
        "\n",
        "    # Get train loss and test loss\n",
        "    train_loss = np.mean(train_loss) \n",
        "    \n",
        "    test_loss = []\n",
        "    for j in range(int(np.ceil(len(test_users) / bs))):\n",
        "      # get the batch\n",
        "      users = test_users[j*bs:(j+1)*bs]\n",
        "      movies = test_movies[j*bs:(j+1)*bs]\n",
        "      targets = test_ratings[j*bs:(j+1)*bs]\n",
        "\n",
        "      # conver to tensor\n",
        "      users = torch.from_numpy(users).long()\n",
        "      movies = torch.from_numpy(movies).long()\n",
        "      targets = torch.from_numpy(targets)\n",
        "    \n",
        "      # reshape targets\n",
        "      # Example: x.view(-1,1) this will output tensor shape [anything, 1] depending on the number of elements in x\n",
        "      targets = targets.view(-1, 1).float()\n",
        "\n",
        "      # move data to GPU\n",
        "      users, movies, targets = users.to(device), movies.to(device), targets.to(device)\n",
        "\n",
        "      outputs = model(users, movies)\n",
        "      loss = criterion(outputs, targets).item()\n",
        "      test_loss.append(loss)\n",
        "    test_loss = np.mean(test_loss)\n",
        "\n",
        "    # Save losses\n",
        "    train_losses[it] = train_loss\n",
        "    test_losses[it] = test_loss\n",
        "    \n",
        "    dt = datetime.now() - t0\n",
        "    print(f'Epoch {it+1}/{epochs}, Train Loss: {train_loss:.4f}, '\n",
        "          f'Test Loss: {test_loss:.4f}, Duration: {dt}')\n",
        "  \n",
        "  return train_losses, test_losses"
      ],
      "execution_count": null,
      "outputs": []
    },
    {
      "cell_type": "code",
      "metadata": {
        "id": "jll7zbqbkxKV"
      },
      "source": [
        "# shuffle the data in corresponding order\n",
        "# by shuffling the data, we ensure that each data point creates an \"independent\" change on the model without being biased by the same points before them\n",
        "user_ids, movie_ids, ratings = shuffle(user_ids, movie_ids, ratings)"
      ],
      "execution_count": null,
      "outputs": []
    },
    {
      "cell_type": "code",
      "metadata": {
        "colab": {
          "base_uri": "https://localhost:8080/"
        },
        "id": "t5T5n0LGk94q",
        "outputId": "aee0c069-4c11-42ad-b3b3-f0bb84d78612"
      },
      "source": [
        "Ntrain = int(0.8 * len(ratings))\n",
        "train_users = user_ids[:Ntrain]\n",
        "train_movies = movie_ids[:Ntrain]\n",
        "train_ratings = ratings[:Ntrain]\n",
        "\n",
        "test_users = user_ids[Ntrain:]\n",
        "test_movies = movie_ids[Ntrain:]\n",
        "test_ratings = ratings[Ntrain:]\n",
        "\n",
        "train_losses, test_losses = batch_gd2(\n",
        "    model,\n",
        "    criterion,\n",
        "    optimizer,\n",
        "    (train_users, train_movies, train_ratings),\n",
        "    (test_users, test_movies, test_ratings),\n",
        "    10)"
      ],
      "execution_count": null,
      "outputs": [
        {
          "output_type": "stream",
          "text": [
            "Epoch 1/10, Train Loss: 0.7359, Test Loss: 0.6909, Duration: 0:00:45.205658\n",
            "Epoch 2/10, Train Loss: 0.6693, Test Loss: 0.6700, Duration: 0:00:44.559482\n",
            "Epoch 3/10, Train Loss: 0.6367, Test Loss: 0.6497, Duration: 0:00:44.485410\n",
            "Epoch 4/10, Train Loss: 0.6146, Test Loss: 0.6392, Duration: 0:00:44.396851\n",
            "Epoch 5/10, Train Loss: 0.5985, Test Loss: 0.6366, Duration: 0:00:44.387523\n",
            "Epoch 6/10, Train Loss: 0.5867, Test Loss: 0.6331, Duration: 0:00:44.372484\n",
            "Epoch 7/10, Train Loss: 0.5776, Test Loss: 0.6316, Duration: 0:00:44.237049\n",
            "Epoch 8/10, Train Loss: 0.5706, Test Loss: 0.6355, Duration: 0:00:44.325136\n",
            "Epoch 9/10, Train Loss: 0.5649, Test Loss: 0.6287, Duration: 0:00:44.235639\n",
            "Epoch 10/10, Train Loss: 0.5604, Test Loss: 0.6324, Duration: 0:00:44.302390\n"
          ],
          "name": "stdout"
        }
      ]
    },
    {
      "cell_type": "code",
      "metadata": {
        "colab": {
          "base_uri": "https://localhost:8080/",
          "height": 265
        },
        "id": "hYdKCiHJr9PJ",
        "outputId": "02ad1bed-0cc0-4c34-f10e-8371550093e9"
      },
      "source": [
        "# Plot the train loss and test loss per iteration\n",
        "plt.plot(train_losses, label='train loss')\n",
        "plt.plot(test_losses, label='test loss')\n",
        "plt.legend() # A legend is an area describing the elements of the graph\n",
        "plt.show()"
      ],
      "execution_count": null,
      "outputs": [
        {
          "output_type": "display_data",
          "data": {
            "image/png": "[encoded data removed]",
            "text/plain": [
              "<Figure size 432x288 with 1 Axes>"
            ]
          },
          "metadata": {
            "tags": [],
            "needs_background": "light"
          }
        }
      ]
    },
    {
      "cell_type": "code",
      "metadata": {
        "id": "8xLX8vcGg7OT"
      },
      "source": [
        "# Suppose I want to find recommendations for user_id = 1\n",
        "# First find all the movie_ids for movies they haven't yet watched\n",
        "watched_movie_ids = df[df.new_user_id == 1].new_movie_id.values"
      ],
      "execution_count": null,
      "outputs": []
    },
    {
      "cell_type": "code",
      "metadata": {
        "colab": {
          "base_uri": "https://localhost:8080/"
        },
        "id": "YvORSgj7lNgv",
        "outputId": "eb62573f-12cd-4a84-a0b9-4e885e3f723e"
      },
      "source": [
        "# movies rated by user 1\n",
        "watched_movie_ids"
      ],
      "execution_count": null,
      "outputs": [
        {
          "output_type": "execute_result",
          "data": {
            "text/plain": [
              "array([   2,   61,   69,  108,  239,  257,  263,  465,  476,  537,  583,\n",
              "        874,  891,  907, 1098, 1171, 1184, 1188, 1221, 1231, 1242, 1298,\n",
              "       1326, 1494, 1528, 1616, 1684, 1881, 1885, 1886, 1887, 1888, 1889,\n",
              "       1890, 1902, 2206, 2369, 2370, 2705, 2772, 2862, 2865, 3063, 3072,\n",
              "       3086, 3361, 3423, 3443, 3464, 3474, 3612, 3662, 3824, 3825, 3830,\n",
              "       3833, 3834, 3835, 3837, 3843, 3865], dtype=int16)"
            ]
          },
          "metadata": {
            "tags": []
          },
          "execution_count": 19
        }
      ]
    },
    {
      "cell_type": "code",
      "metadata": {
        "id": "1Lbctx3VnDuG"
      },
      "source": [
        "# movies whuch user 1 has not rated\n",
        "potential_movie_ids = df[~df.new_movie_id.isin(watched_movie_ids)].new_movie_id.unique()"
      ],
      "execution_count": null,
      "outputs": []
    },
    {
      "cell_type": "code",
      "metadata": {
        "colab": {
          "base_uri": "https://localhost:8080/"
        },
        "id": "SwofPgV6s8zk",
        "outputId": "e1af07a8-773b-4331-ddad-149b715f42c9"
      },
      "source": [
        "# How many user 1 has not rated?\n",
        "potential_movie_ids.shape"
      ],
      "execution_count": null,
      "outputs": [
        {
          "output_type": "execute_result",
          "data": {
            "text/plain": [
              "(26683,)"
            ]
          },
          "metadata": {
            "tags": []
          },
          "execution_count": 21
        }
      ]
    },
    {
      "cell_type": "code",
      "metadata": {
        "colab": {
          "base_uri": "https://localhost:8080/"
        },
        "id": "0ffGzPD_tCJu",
        "outputId": "278641a1-618a-4ced-a164-5be281fc8f4d"
      },
      "source": [
        "len(set(potential_movie_ids))"
      ],
      "execution_count": null,
      "outputs": [
        {
          "output_type": "execute_result",
          "data": {
            "text/plain": [
              "26683"
            ]
          },
          "metadata": {
            "tags": []
          },
          "execution_count": 22
        }
      ]
    },
    {
      "cell_type": "code",
      "metadata": {
        "id": "nnetR7tXtLWV"
      },
      "source": [
        "# Repeat the user id this many times\n",
        "user_id_to_recommend = np.ones_like(potential_movie_ids)"
      ],
      "execution_count": null,
      "outputs": []
    },
    {
      "cell_type": "code",
      "metadata": {
        "id": "kYPMVefvv52o"
      },
      "source": [
        "# Convert to torch tensor\n",
        "t_user_ids = torch.from_numpy(user_id_to_recommend).long().to(device)\n",
        "t_movie_ids = torch.from_numpy(potential_movie_ids).long().to(device)\n",
        "\n",
        "# Get predictions\n",
        "with torch.no_grad():\n",
        "  predictions = model(t_user_ids, t_movie_ids)"
      ],
      "execution_count": null,
      "outputs": []
    },
    {
      "cell_type": "code",
      "metadata": {
        "id": "bO8SJSCHv-h4"
      },
      "source": [
        "# Convert predictions to Numpy\n",
        "# flatten to get 1D array instead of 2d array\n",
        "predictions_np = predictions.cpu().numpy().flatten()\n",
        "\n",
        "# Get sort index for predictions\n",
        "sort_idx = np.argsort(-predictions_np)"
      ],
      "execution_count": null,
      "outputs": []
    },
    {
      "cell_type": "code",
      "metadata": {
        "colab": {
          "base_uri": "https://localhost:8080/"
        },
        "id": "imz8S8kKv_eE",
        "outputId": "e4174132-e5c5-43b8-a5a7-e52374ee3c25"
      },
      "source": [
        "predictions_np"
      ],
      "execution_count": null,
      "outputs": [
        {
          "output_type": "execute_result",
          "data": {
            "text/plain": [
              "array([1.8155775 , 0.28463024, 1.8474042 , ..., 1.284921  , 1.2947899 ,\n",
              "       1.26265   ], dtype=float32)"
            ]
          },
          "metadata": {
            "tags": []
          },
          "execution_count": 26
        }
      ]
    },
    {
      "cell_type": "code",
      "metadata": {
        "colab": {
          "base_uri": "https://localhost:8080/"
        },
        "id": "3DJVPZAQwF4-",
        "outputId": "973a55b8-0a97-4a7a-960d-88eedd6cbe7a"
      },
      "source": [
        "sort_idx"
      ],
      "execution_count": null,
      "outputs": [
        {
          "output_type": "execute_result",
          "data": {
            "text/plain": [
              "array([ 176,   34,   26, ...,  964, 3305, 8583])"
            ]
          },
          "metadata": {
            "tags": []
          },
          "execution_count": 27
        }
      ]
    },
    {
      "cell_type": "code",
      "metadata": {
        "colab": {
          "base_uri": "https://localhost:8080/"
        },
        "id": "u8OEbvXawLqf",
        "outputId": "cba8c182-d22e-49b6-e6f7-2befe6ac1458"
      },
      "source": [
        "# Top 10 predictions\n",
        "top_10_movie_ids = potential_movie_ids[sort_idx[:10]]\n",
        "top_10_scores = predictions_np[sort_idx[:10]]\n",
        "\n",
        "for movie, score in zip(top_10_movie_ids, top_10_scores):\n",
        "  print(\"movie:\", movie, \"score:\", score)"
      ],
      "execution_count": null,
      "outputs": [
        {
          "output_type": "stream",
          "text": [
            "movie: 453 score: 2.833981\n",
            "movie: 1212 score: 2.8298604\n",
            "movie: 1173 score: 2.8157215\n",
            "movie: 1661 score: 2.732621\n",
            "movie: 1075 score: 2.725697\n",
            "movie: 1557 score: 2.7096786\n",
            "movie: 1263 score: 2.6888444\n",
            "movie: 1356 score: 2.6867056\n",
            "movie: 1870 score: 2.6639597\n",
            "movie: 148 score: 2.662428\n"
          ],
          "name": "stdout"
        }
      ]
    }
  ]
}